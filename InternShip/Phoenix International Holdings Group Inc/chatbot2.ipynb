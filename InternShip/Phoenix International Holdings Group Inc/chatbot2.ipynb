{
 "cells": [
  {
   "cell_type": "code",
   "execution_count": 4,
   "metadata": {},
   "outputs": [
    {
     "name": "stdout",
     "output_type": "stream",
     "text": [
      "\n",
      "Say something to the DuckTypedMicrophone...\n"
     ]
    },
    {
     "ename": "KeyboardInterrupt",
     "evalue": "",
     "output_type": "error",
     "traceback": [
      "\u001b[1;31m---------------------------------------------------------------------------\u001b[0m",
      "\u001b[1;31mKeyboardInterrupt\u001b[0m                         Traceback (most recent call last)",
      "Cell \u001b[1;32mIn [4], line 33\u001b[0m\n\u001b[0;32m     31\u001b[0m \u001b[39mwith\u001b[39;00m DuckTypedMicrophone() \u001b[39mas\u001b[39;00m source:\n\u001b[0;32m     32\u001b[0m     \u001b[39mprint\u001b[39m(\u001b[39m'\u001b[39m\u001b[39m\\n\u001b[39;00m\u001b[39mSay something to the \u001b[39m\u001b[39m%s\u001b[39;00m\u001b[39m...\u001b[39m\u001b[39m'\u001b[39m \u001b[39m%\u001b[39m source\u001b[39m.\u001b[39m\u001b[39m__class__\u001b[39m\u001b[39m.\u001b[39m\u001b[39m__name__\u001b[39m)\n\u001b[1;32m---> 33\u001b[0m     audio \u001b[39m=\u001b[39m r\u001b[39m.\u001b[39;49mlisten(source)\n\u001b[0;32m     34\u001b[0m \u001b[39mprint\u001b[39m(\u001b[39m'\u001b[39m\u001b[39mGot it.\u001b[39m\u001b[39m'\u001b[39m)\n\u001b[0;32m     35\u001b[0m \u001b[39mprint\u001b[39m(\u001b[39m'\u001b[39m\u001b[39m\\n\u001b[39;00m\u001b[39mUnderstood: \u001b[39m\u001b[39m\"\u001b[39m\u001b[39m%s\u001b[39;00m\u001b[39m\"\u001b[39m\u001b[39m\\n\u001b[39;00m\u001b[39m'\u001b[39m \u001b[39m%\u001b[39m r\u001b[39m.\u001b[39mrecognize_google(audio))\n",
      "File \u001b[1;32m~\\AppData\\Roaming\\Python\\Python310\\site-packages\\speech_recognition\\__init__.py:620\u001b[0m, in \u001b[0;36mRecognizer.listen\u001b[1;34m(self, source, timeout, phrase_time_limit, snowboy_configuration)\u001b[0m\n\u001b[0;32m    617\u001b[0m \u001b[39mif\u001b[39;00m timeout \u001b[39mand\u001b[39;00m elapsed_time \u001b[39m>\u001b[39m timeout:\n\u001b[0;32m    618\u001b[0m     \u001b[39mraise\u001b[39;00m WaitTimeoutError(\u001b[39m\"\u001b[39m\u001b[39mlistening timed out while waiting for phrase to start\u001b[39m\u001b[39m\"\u001b[39m)\n\u001b[1;32m--> 620\u001b[0m buffer \u001b[39m=\u001b[39m source\u001b[39m.\u001b[39;49mstream\u001b[39m.\u001b[39;49mread(source\u001b[39m.\u001b[39;49mCHUNK)\n\u001b[0;32m    621\u001b[0m \u001b[39mif\u001b[39;00m \u001b[39mlen\u001b[39m(buffer) \u001b[39m==\u001b[39m \u001b[39m0\u001b[39m: \u001b[39mbreak\u001b[39;00m  \u001b[39m# reached end of the stream\u001b[39;00m\n\u001b[0;32m    622\u001b[0m frames\u001b[39m.\u001b[39mappend(buffer)\n",
      "Cell \u001b[1;32mIn [4], line 21\u001b[0m, in \u001b[0;36mDuckTypedMicrophone.read\u001b[1;34m(self, nSamples)\u001b[0m\n\u001b[0;32m     20\u001b[0m \u001b[39mdef\u001b[39;00m \u001b[39mread\u001b[39m( \u001b[39mself\u001b[39m, nSamples ):\n\u001b[1;32m---> 21\u001b[0m     sampleArray \u001b[39m=\u001b[39m \u001b[39mself\u001b[39;49m\u001b[39m.\u001b[39;49mrecorder\u001b[39m.\u001b[39;49mReadSamples( \u001b[39mself\u001b[39;49m\u001b[39m.\u001b[39;49mnSamplesRead, nSamples )\n\u001b[0;32m     22\u001b[0m     \u001b[39mself\u001b[39m\u001b[39m.\u001b[39mnSamplesRead \u001b[39m+\u001b[39m\u001b[39m=\u001b[39m nSamples\n\u001b[0;32m     23\u001b[0m     \u001b[39mreturn\u001b[39;00m \u001b[39mself\u001b[39m\u001b[39m.\u001b[39mrecorder\u001b[39m.\u001b[39msound\u001b[39m.\u001b[39mdat2str( sampleArray )\n",
      "File \u001b[1;32m~\\AppData\\Roaming\\Python\\Python310\\site-packages\\audiomath\\GenericInterface.py:1307\u001b[0m, in \u001b[0;36mGenericRecorder.ReadSamples\u001b[1;34m(self, startPositionInSamples, nSamples)\u001b[0m\n\u001b[0;32m   1305\u001b[0m target \u001b[39m=\u001b[39m startPositionInSamples \u001b[39m+\u001b[39m nSamples\n\u001b[0;32m   1306\u001b[0m \u001b[39mif\u001b[39;00m \u001b[39mnot\u001b[39;00m \u001b[39mself\u001b[39m\u001b[39m.\u001b[39m__loop: target \u001b[39m=\u001b[39m \u001b[39mmin\u001b[39m( target, nAvailable )\n\u001b[1;32m-> 1307\u001b[0m \u001b[39mwhile\u001b[39;00m \u001b[39mself\u001b[39m\u001b[39m.\u001b[39m_nextSample \u001b[39m<\u001b[39m target: time\u001b[39m.\u001b[39;49msleep( \u001b[39m0.001\u001b[39;49m )\n\u001b[0;32m   1308\u001b[0m \u001b[39mif\u001b[39;00m \u001b[39mself\u001b[39m\u001b[39m.\u001b[39m__loop: startPositionInSamples \u001b[39m%\u001b[39m\u001b[39m=\u001b[39m nAvailable\n\u001b[0;32m   1309\u001b[0m slices \u001b[39m=\u001b[39m [ \u001b[39mslice\u001b[39m( \u001b[39mNone\u001b[39;00m ), \u001b[39mslice\u001b[39m( \u001b[39mNone\u001b[39;00m ) ]\n",
      "\u001b[1;31mKeyboardInterrupt\u001b[0m: "
     ]
    }
   ],
   "source": [
    "import audiomath; audiomath.RequireAudiomathVersion( '1.12.0' )\n",
    "import speech_recognition  # NB: python -m pip install SpeechRecognition\n",
    "\n",
    "class DuckTypedMicrophone( speech_recognition.AudioSource ): # descent from AudioSource is required purely to pass an assertion in Recognizer.listen()\n",
    "    def __init__( self, device=None, chunkSeconds=1024/44100.0 ):  # 1024 samples at 44100 Hz is about 23 ms\n",
    "        self.recorder = None\n",
    "        self.device = device\n",
    "        self.chunkSeconds = chunkSeconds\n",
    "    def __enter__( self ):\n",
    "        self.nSamplesRead = 0\n",
    "        self.recorder = audiomath.Recorder( audiomath.Sound( 5, nChannels=1 ), loop=True, device=self.device )\n",
    "        # Attributes required by Recognizer.listen():\n",
    "        self.CHUNK = audiomath.SecondsToSamples( self.chunkSeconds, self.recorder.fs, int )\n",
    "        self.SAMPLE_RATE = int( self.recorder.fs )\n",
    "        self.SAMPLE_WIDTH = self.recorder.sound.nbytes\n",
    "        return self\n",
    "    def __exit__( self, *blx ):\n",
    "        self.recorder.Stop()\n",
    "        self.recorder = None\n",
    "    def read( self, nSamples ):\n",
    "        sampleArray = self.recorder.ReadSamples( self.nSamplesRead, nSamples )\n",
    "        self.nSamplesRead += nSamples\n",
    "        return self.recorder.sound.dat2str( sampleArray )\n",
    "    @property\n",
    "    def stream( self ): # attribute must be present to pass an assertion in Recognizer.listen(), and its value must have a .read() method\n",
    "        return self if self.recorder else None\n",
    "\n",
    "if __name__ == '__main__':\n",
    "    import speech_recognition as sr\n",
    "    r = sr.Recognizer()\n",
    "    with DuckTypedMicrophone() as source:\n",
    "        print('\\nSay something to the %s...' % source.__class__.__name__)\n",
    "        audio = r.listen(source)\n",
    "    print('Got it.')\n",
    "    print('\\nUnderstood: \"%s\"\\n' % r.recognize_google(audio))\n",
    "\n",
    "    if 0: # plot and/or play back captured audio\n",
    "        s = audiomath.Sound(audio.get_wav_data(), fs=audio.sample_rate, nChannels=1)\n",
    "        s.Play()\n",
    "        s.Plot()"
   ]
  }
 ],
 "metadata": {
  "kernelspec": {
   "display_name": "Python 3.10.6 64-bit",
   "language": "python",
   "name": "python3"
  },
  "language_info": {
   "codemirror_mode": {
    "name": "ipython",
    "version": 3
   },
   "file_extension": ".py",
   "mimetype": "text/x-python",
   "name": "python",
   "nbconvert_exporter": "python",
   "pygments_lexer": "ipython3",
   "version": "3.10.6"
  },
  "orig_nbformat": 4,
  "vscode": {
   "interpreter": {
    "hash": "26de051ba29f2982a8de78e945f0abaf191376122a1563185a90213a26c5da77"
   }
  }
 },
 "nbformat": 4,
 "nbformat_minor": 2
}
